{
  "nbformat": 4,
  "nbformat_minor": 0,
  "metadata": {
    "colab": {
      "provenance": [],
      "authorship_tag": "ABX9TyNihf3gcDrdUdRLumJAwKhZ",
      "include_colab_link": true
    },
    "kernelspec": {
      "name": "python3",
      "display_name": "Python 3"
    },
    "language_info": {
      "name": "python"
    }
  },
  "cells": [
    {
      "cell_type": "markdown",
      "metadata": {
        "id": "view-in-github",
        "colab_type": "text"
      },
      "source": [
        "<a href=\"https://colab.research.google.com/github/scrpin09/sample/blob/main/basic01.ipynb\" target=\"_parent\"><img src=\"https://colab.research.google.com/assets/colab-badge.svg\" alt=\"Open In Colab\"/></a>"
      ]
    },
    {
      "cell_type": "code",
      "execution_count": 1,
      "metadata": {
        "colab": {
          "base_uri": "https://localhost:8080/"
        },
        "id": "tPdH-XgPgEgx",
        "outputId": "cde1315f-b63e-41da-ab77-3a05c5c3a71e"
      },
      "outputs": [
        {
          "output_type": "stream",
          "name": "stdout",
          "text": [
            "Enter the num-5\n",
            "Negative\n",
            "End\n"
          ]
        }
      ],
      "source": [
        "num=int(input(\"Enter the num\"))\n",
        "if num>=0:\n",
        "  print(\"Positive\")\n",
        "else :\n",
        "  print(\"Negative\") \n",
        "print(\"End\") "
      ]
    }
  ]
}